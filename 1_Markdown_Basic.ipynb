{
  "nbformat": 4,
  "nbformat_minor": 0,
  "metadata": {
    "colab": {
      "name": "1. Markdown_Basic.ipynb",
      "provenance": [],
      "collapsed_sections": [],
      "toc_visible": true,
      "authorship_tag": "ABX9TyMvtXZJiYyDpvCDljsixYHH",
      "include_colab_link": true
    },
    "kernelspec": {
      "name": "python3",
      "display_name": "Python 3"
    }
  },
  "cells": [
    {
      "cell_type": "markdown",
      "metadata": {
        "id": "view-in-github",
        "colab_type": "text"
      },
      "source": [
        "<a href=\"https://colab.research.google.com/github/Taeungwang/DSG4/blob/main/1_Markdown_Basic.ipynb\" target=\"_parent\"><img src=\"https://colab.research.google.com/assets/colab-badge.svg\" alt=\"Open In Colab\"/></a>"
      ]
    },
    {
      "cell_type": "markdown",
      "metadata": {
        "id": "olFxZkEHkshk"
      },
      "source": [
        "## Markdown Basic\r\n",
        "\r\n",
        "\r\n",
        "*Jupyter Notebook에서 사용하는 설명문 작성할때 사용하는 언어이며 태그형식으로 표현한다.*\r\n",
        "\r\n",
        "\r\n",
        "* Markup?  Markdown?\r\n",
        " - Markup : 태그형식으로 둘러쌓인 언어(HTML 등), 문서 골격을 작성할 때 사용\r\n",
        "    \r\n",
        "    html 예시\r\n",
        "    \r\n",
        "        <html>\r\n",
        "            <head> 왕태웅 Web Page </head>\r\n",
        "            <body>\r\n",
        "                저는 왕태웅입니다.<br>\r\n",
        "                DSG 소속이구요 <br>\r\n",
        "                <img src='왕태웅 사진.jpg'>왕태웅의 사진</img>\r\n",
        "\r\n",
        "                <a href='왕태웅 홈페이지.com'>링크를 누르시면 왕태웅 홈페이지로 연결됩니다.</a>\r\n",
        "            </body>\r\n",
        "        </html>\r\n",
        "\r\n",
        "\r\n",
        " - Markdown : 텍스트 기반의 경량 마크업 언어, 쓰기 쉽고 문법이 간단\r\n",
        "\r\n",
        "\r\n"
      ]
    },
    {
      "cell_type": "markdown",
      "metadata": {
        "id": "7up7UYJxmEhm"
      },
      "source": [
        "## 문법 1. 줄 바꿈\r\n",
        "\r\n",
        "* 줄바꿈은 2가지 방법\r\n",
        "  - 문장 끝에 빈 칸 두 개\r\n",
        "  - 문장과 문장사이 빈 줄   \r\n",
        "        왕태웅입니다.\r\n",
        "        DSG소속이구요\r\n",
        "왕태웅입니다.\r\n",
        "DSG소속이구요\r\n",
        "\r\n",
        "        왕태웅입니다.\r\n",
        "\r\n",
        "        DSG소속이구요\r\n",
        "\r\n",
        "    왕태웅입니다.\r\n",
        "\r\n",
        "    DSG소속이구요\r\n",
        "\r\n"
      ]
    },
    {
      "cell_type": "markdown",
      "metadata": {
        "id": "66Pg5XvMncxE"
      },
      "source": [
        "## 문법 2. 제목\r\n",
        "\r\n",
        "* 문단 제목은 앞에 #을 붙인다.\r\n",
        "  - `#` 1~6개로 크기를 조절함\r\n",
        "  - `#` 앞에 띄워쓰기X\r\n",
        "  - ex)\r\n",
        "        #제목1\r\n",
        "        ##제목2\r\n",
        "        ###제목3\r\n",
        "        ####제목4\r\n",
        "        #####제목5\r\n",
        "        ######제목6\r\n",
        "\r\n",
        "#제목1  \r\n",
        "##제목2  \r\n",
        "###제목3  \r\n",
        "####제목4  \r\n",
        "#####제목5  \r\n",
        "######제목6  \r\n",
        "\r\n",
        "\r\n",
        "* 라인으로 큰 제목과 중간 제목 표현\r\n",
        "\r\n",
        "        큰 제목\r\n",
        "        ====================\r\n",
        "\r\n",
        "        중간 제목\r\n",
        "        -------------------\r\n",
        "\r\n",
        "\r\n",
        "큰 제목\r\n",
        "====================\r\n",
        "\r\n",
        "중간 제목\r\n",
        "-------------------\r\n",
        "\r\n",
        "---\r\n",
        "\r\n",
        "\r\n",
        "Q.  #기호를 제목이 아니고 정말 특수기호로 사용하려면??\r\n",
        "\r\n",
        "A.  #기호 앞에 슬래쉬\\ 를 붙여줍니다.\r\n",
        "\r\n",
        "\\# 이거슨 제목이 아니옵니다."
      ]
    },
    {
      "cell_type": "markdown",
      "metadata": {
        "id": "zuwIlLRkncz8"
      },
      "source": [
        "## 문법 3. 이탤릭체와 볼드체\r\n",
        "\r\n",
        "Colab은 메뉴바에 기능이 있지만,  \r\n",
        "기존 Jupyter notebook에서는 텍스트 편집기에 메뉴바가 없음.  \r\n",
        "마크다운 문법으로 이탤릭체와 볼드체를 지정해야함\r\n",
        "\r\n",
        "        *문장 양쪽 별 한개*는 이탤릭체입니다*  \r\n",
        "        _문장 양쪽 언더 바_도 이탤릭체이구요_  \r\n",
        "        **볼드는 별 두개요**  \r\n",
        "        ***그러면 별세개는 뭐게요?***\r\n",
        "\r\n",
        "*문장 양쪽 별 한개*는 이탤릭체입니다*  \r\n",
        "_문장 양쪽 언더 바_도 이탤릭체이구요_  \r\n",
        "**볼드는 별 두개요**  \r\n",
        "***그러면 별세개는 뭐게요?***\r\n"
      ]
    },
    {
      "cell_type": "markdown",
      "metadata": {
        "id": "tFOM2iUHnc3G"
      },
      "source": [
        "## 문법 4. 블럭 인용\r\n",
        "\r\n",
        "* 블럭은 기호 > 을 사용\r\n",
        "* 하위블럭은 >>, >>> 등 >의 갯수로 표현\r\n",
        "* 블럭>은 반드시 문장의 맨 앞에 사용\r\n",
        "\r\n",
        "\r\n",
        ">아래는 DSG 4기 기초교육 일정입니다.  \r\n",
        "업무에 참고하시기 바랍니다.\r\n",
        ">>1. Colab\r\n",
        ">>>1) google drive 연동\r\n",
        ">>>>a) 내 드라이브 연결하기  \r\n",
        ">>>>b) 내 드라이브에서 파일 읽기/저장하기\r\n",
        "\r\n",
        ">>>2) Colab에 한글폰트 설치하기\r\n",
        "\r\n",
        ">>2. Markdown"
      ]
    },
    {
      "cell_type": "markdown",
      "metadata": {
        "id": "Z9nwyQ0_ndAE"
      },
      "source": [
        "## 문법 5. 리스트\r\n",
        "\r\n",
        "* 숫자로 표현 : 숫자를 잘못 입력해도 자동으로 차례대로 붙여줌\r\n",
        "        1. Colab\r\n",
        "        5. Markdown\r\n",
        "        7. Python 문법 기초\r\n",
        "\r\n",
        "1. Colab\r\n",
        "5. Markdown\r\n",
        "7. Python 문법 기초\r\n",
        "    \r\n",
        "* 특수기호로 표현 : 들여쓰기를 잘하자\r\n",
        "        * Colab\r\n",
        "            + Markdown\r\n",
        "                - Python 문법 기초\r\n",
        "\r\n",
        "* Colab\r\n",
        "    + Markdown\r\n",
        "        - Python 문법 기초\r\n"
      ]
    },
    {
      "cell_type": "markdown",
      "metadata": {
        "id": "OxMh-EGMndCm"
      },
      "source": [
        "##문법 6. 링크\r\n",
        "\r\n",
        "*링크는 설명문에서 바로 웹 페이지로 연결하게 하고 싶을때 사용한다.*\r\n",
        "\r\n",
        "* 방법 1 : 그냥 url 주소 쓰기\r\n",
        "\r\n",
        "        http://ko.d2l.ai/index.html\r\n",
        "    http://ko.d2l.ai/index.html\r\n",
        "\r\n",
        "* 방법 2 : 텍스트에 링크를 달기(URL 주소 안보여주기)\r\n",
        "\r\n",
        "        [텍스트 내용](URL)\r\n",
        "        [<딥러닝 학습서 : Dive into Deep Learning>](http://ko.d2l.ai/index.html)        \r\n",
        "\r\n",
        "    [<딥러닝 학습서 : Dive into Deep Learning>](http://ko.d2l.ai/index.html)        \r\n",
        "\r\n"
      ]
    },
    {
      "cell_type": "markdown",
      "metadata": {
        "id": "beIe0aKzndFX"
      },
      "source": [
        "## 문법 7. 이미지 넣기\r\n",
        "\r\n",
        "*텍스트 창안에 이미지를 넣어봅시다.*\r\n",
        "\r\n",
        "* 방법1 :  !\\[텍스트](URL)\r\n",
        "\r\n",
        "        ![Deep Learning](https://eastbanctech.com/images/technology-insights/demist-DL-pict2.png)\r\n",
        "\r\n",
        "![Deep Learning](https://eastbanctech.com/images/technology-insights/demist-DL-pict2.png)\r\n",
        "\r\n",
        "* 방법2 : !\\[텍스트](URL \"이미지 이름\")  : 마우스 오버시 이름 표시\r\n",
        "        ![Deep Learning](https://eastbanctech.com/images/technology-insights/demist-DL-pict2.png \"Machine Learning VS Deep Learning\")\r\n",
        "\r\n",
        "![Deep Learning](https://eastbanctech.com/images/technology-insights/demist-DL-pict2.png \"Machine Learning VS Deep Learning\")\r\n",
        "\r\n",
        "\r\n",
        "* 방법3 : img 코드 사용 + 사이즈 조절\r\n",
        "\r\n",
        "        <img src=\"https://eastbanctech.com/images/technology-insights/demist-DL-pict2.png\" width=\"20%\" height=\"20%\">\r\n",
        "\r\n",
        "<img src=\"https://eastbanctech.com/images/technology-insights/demist-DL-pict2.png\" width=\"20%\" height=\"20%\">"
      ]
    },
    {
      "cell_type": "markdown",
      "metadata": {
        "id": "agHWXM2ezaCK"
      },
      "source": [
        "## 문법 8.  코드 넣기\r\n",
        "\r\n",
        "* ``\\` 를 코드 양 끝에 넣고 처음 \\```뒤에 python을 붙여줌\r\n",
        "\r\n",
        "        ```python\r\n",
        "        import pandas as pd\r\n",
        "\r\n",
        "        ```\r\n",
        "\r\n",
        "\r\n",
        "```python\r\n",
        "import pandas as pd\r\n",
        "import numpy as np\r\n",
        "\r\n",
        "for i in range(10) :\r\n",
        "    print(i)\r\n",
        "    \r\n",
        "    if i == 5 :\r\n",
        "        break\r\n",
        "\r\n",
        "\r\n",
        "```\r\n",
        "\r\n",
        "\r\n"
      ]
    },
    {
      "cell_type": "code",
      "metadata": {
        "id": "GzC0jZhrnR_D"
      },
      "source": [
        ""
      ],
      "execution_count": null,
      "outputs": []
    }
  ]
}