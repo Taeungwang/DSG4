{
  "nbformat": 4,
  "nbformat_minor": 0,
  "metadata": {
    "colab": {
      "name": "01.Colab기초.ipynb",
      "provenance": [],
      "collapsed_sections": []
    },
    "kernelspec": {
      "name": "python3",
      "display_name": "Python 3"
    }
  },
  "cells": [
    {
      "cell_type": "markdown",
      "metadata": {
        "id": "8_PqdisjCx7R"
      },
      "source": [
        "## Google Colaboratory 사용법\r\n",
        "\r\n",
        "*일반적인 사용방법은 Jupyter Notebook과 같지만 편의성면에서 더 좋은 점도 있고, 약간의 차이가 있다.*\r\n",
        "\r\n",
        "\r\n",
        "\r\n"
      ]
    },
    {
      "cell_type": "markdown",
      "metadata": {
        "id": "_mPXO-sQHu34"
      },
      "source": [
        "### Colab 단축키\r\n",
        "\r\n",
        "\r\n",
        "* 단축키 : Ctrl + M H\r\n",
        "\r\n",
        "* 셀 입력 : Enter\r\n",
        "\r\n",
        "* 셀 추가\r\n",
        " \r\n",
        "  - 코드 추가 : Ctrl + M B\r\n",
        "\r\n",
        "  - 텍스트셀로 변경 : Ctrl + M M\r\n",
        "  \r\n",
        "  - 코드셀로 변경 : Ctrl + M Y\r\n",
        "\r\n",
        "\r\n",
        "* 실행\r\n",
        "\r\n",
        " - 현재 셀 실행 : Ctrl + Enter\r\n",
        "\r\n",
        " - 실행 후 아래 셀로 이동 : Shift + Enter\r\n",
        "\r\n",
        " - 실행 후 아래에 셀 추가 : Alt + Enter\r\n",
        "\r\n",
        "* 셀 이동\r\n",
        "\r\n",
        " - 선택 셀 위로 이동 : Ctrl + M K\r\n",
        " - 선택 셀 아래 이동 : Ctrl + M J\r\n",
        "\r\n",
        "* 셀 삭제 : Ctrl + M D\r\n",
        "\r\n",
        "\r\n",
        "* 코드 한줄 삭제 : Shift + Del\r\n",
        "\r\n",
        "\r\n"
      ]
    },
    {
      "cell_type": "markdown",
      "metadata": {
        "id": "DsEfAqCWHvXu"
      },
      "source": [
        "### Google Drive mount\r\n",
        "\r\n",
        "*자신의 Google Drive에 연동해서 Drive의 파일을 제어할 수 있다.*    \r\n",
        "*유닉스 명령어를 사용한다.*  \r\n",
        "\r\n",
        "***유닉스 명령어를 사용하는 셀에는 주석 등 다른 문구가 있으면 안됨***  \r\n",
        "***폴더명, 파일명은 대소문자를 정확히 입력***  \r\n",
        "\r\n",
        "\r\n",
        "  \r\n",
        "\r\n",
        "* 경로이동 : cd 경로명\r\n",
        "  - ex) cd myDrive\r\n",
        "  - cd .. : 상위 폴더로 이동\r\n",
        "  - cd - : 이전 폴더로 이동\r\n",
        "  \r\n",
        "* 현재 경로 확인 : pwd\r\n",
        "\r\n",
        "* 폴더 만들기 : mkdir\r\n",
        "\r\n",
        "* 현재 경로의 파일보기 : ls\r\n",
        "\r\n",
        "  - -a : 숨겨진 파일 보기\r\n",
        "  - -F : 실행파일에 * ,  폴더에 / 붙여서 출력\r\n",
        "  - -l : 파일의 정보 출력\r\n",
        "  - -R : 하위 폴더 모두 출력\r\n",
        "\r\n"
      ]
    },
    {
      "cell_type": "code",
      "metadata": {
        "id": "gB9emJN-EY3C"
      },
      "source": [
        "# 드라이브 마운트를 해보자\r\n"
      ],
      "execution_count": 39,
      "outputs": []
    },
    {
      "cell_type": "markdown",
      "metadata": {
        "id": "GZlLSIvGM9Yi"
      },
      "source": [
        "Q1. 자신의 드라이브 'DSG 4기 기초교육' 이라는 폴더를 만들고\r\n",
        "해당 경로까지 이동해보세요.\r\n",
        "\r\n",
        "아래 순서대로 해보세요\r\n",
        "\r\n",
        "1. 자신의 드라이브를 마운트 후 경로 이동\r\n",
        "\r\n",
        "2. mkdir 경로명\r\n",
        "\r\n",
        "3. cd 경로명\r\n",
        "\r\n",
        "4. ls"
      ]
    },
    {
      "cell_type": "code",
      "metadata": {
        "id": "74jwFKinNKRs"
      },
      "source": [
        ""
      ],
      "execution_count": null,
      "outputs": []
    }
  ]
}